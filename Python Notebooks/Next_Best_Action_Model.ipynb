{
 "cells": [
  {
   "cell_type": "markdown",
   "metadata": {},
   "source": [
    "Importing some libraries that we will use for the Analysis "
   ]
  },
  {
   "cell_type": "code",
   "execution_count": 2,
   "metadata": {},
   "outputs": [
    {
     "name": "stderr",
     "output_type": "stream",
     "text": [
      "/Users/raj/anaconda3/lib/python3.6/site-packages/sklearn/cross_validation.py:41: DeprecationWarning: This module was deprecated in version 0.18 in favor of the model_selection module into which all the refactored classes and functions are moved. Also note that the interface of the new CV iterators are different from that of this module. This module will be removed in 0.20.\n",
      "  \"This module will be removed in 0.20.\", DeprecationWarning)\n"
     ]
    }
   ],
   "source": [
    "import pandas as pd\n",
    "import matplotlib.pyplot as plt\n",
    "import pandasql as ps\n",
    "from sqlalchemy import create_engine\n",
    "%matplotlib inline\n",
    "import numpy as np\n",
    "np.set_printoptions(threshold=np.nan)\n",
    "from sklearn.ensemble import RandomForestClassifier\n",
    "from sklearn.metrics import confusion_matrix\n",
    "from sklearn.svm import SVC\n",
    "from sklearn.cross_validation import cross_val_score\n",
    "import seaborn as sns\n",
    "from sklearn.metrics import f1_score"
   ]
  },
  {
   "cell_type": "markdown",
   "metadata": {},
   "source": [
    "Load the data from file and Display the first five rows of the table using the \"head\" Command"
   ]
  },
  {
   "cell_type": "code",
   "execution_count": 3,
   "metadata": {},
   "outputs": [
    {
     "data": {
      "text/html": [
       "<div>\n",
       "<style>\n",
       "    .dataframe thead tr:only-child th {\n",
       "        text-align: right;\n",
       "    }\n",
       "\n",
       "    .dataframe thead th {\n",
       "        text-align: left;\n",
       "    }\n",
       "\n",
       "    .dataframe tbody tr th {\n",
       "        vertical-align: top;\n",
       "    }\n",
       "</style>\n",
       "<table border=\"1\" class=\"dataframe\">\n",
       "  <thead>\n",
       "    <tr style=\"text-align: right;\">\n",
       "      <th></th>\n",
       "      <th>national_provider_identifier</th>\n",
       "      <th>gender</th>\n",
       "      <th>birth_year</th>\n",
       "      <th>medical_group</th>\n",
       "      <th>hospital</th>\n",
       "      <th>location</th>\n",
       "      <th>school</th>\n",
       "      <th>graduation_year</th>\n",
       "      <th>pharmacy_preference</th>\n",
       "      <th>popularity</th>\n",
       "      <th>channel</th>\n",
       "      <th>content</th>\n",
       "      <th>week_of</th>\n",
       "      <th>day</th>\n",
       "      <th>time_sent</th>\n",
       "      <th>response</th>\n",
       "    </tr>\n",
       "  </thead>\n",
       "  <tbody>\n",
       "    <tr>\n",
       "      <th>0</th>\n",
       "      <td>10000000</td>\n",
       "      <td>0</td>\n",
       "      <td>1972</td>\n",
       "      <td>NYU</td>\n",
       "      <td>NYU Langone</td>\n",
       "      <td>10016</td>\n",
       "      <td>Stanford</td>\n",
       "      <td>2000</td>\n",
       "      <td>1</td>\n",
       "      <td>2</td>\n",
       "      <td>0</td>\n",
       "      <td>0</td>\n",
       "      <td>4/1/18</td>\n",
       "      <td>1</td>\n",
       "      <td>Morning</td>\n",
       "      <td>0</td>\n",
       "    </tr>\n",
       "    <tr>\n",
       "      <th>1</th>\n",
       "      <td>10000000</td>\n",
       "      <td>0</td>\n",
       "      <td>1972</td>\n",
       "      <td>NYU</td>\n",
       "      <td>NYU Langone</td>\n",
       "      <td>10016</td>\n",
       "      <td>Stanford</td>\n",
       "      <td>2000</td>\n",
       "      <td>1</td>\n",
       "      <td>2</td>\n",
       "      <td>2</td>\n",
       "      <td>0</td>\n",
       "      <td>4/1/18</td>\n",
       "      <td>3</td>\n",
       "      <td>Afternoon</td>\n",
       "      <td>0</td>\n",
       "    </tr>\n",
       "    <tr>\n",
       "      <th>2</th>\n",
       "      <td>10000000</td>\n",
       "      <td>0</td>\n",
       "      <td>1972</td>\n",
       "      <td>NYU</td>\n",
       "      <td>NYU Langone</td>\n",
       "      <td>10016</td>\n",
       "      <td>Stanford</td>\n",
       "      <td>2000</td>\n",
       "      <td>1</td>\n",
       "      <td>2</td>\n",
       "      <td>0</td>\n",
       "      <td>0</td>\n",
       "      <td>4/1/18</td>\n",
       "      <td>4</td>\n",
       "      <td>Afternoon</td>\n",
       "      <td>0</td>\n",
       "    </tr>\n",
       "    <tr>\n",
       "      <th>3</th>\n",
       "      <td>10000000</td>\n",
       "      <td>0</td>\n",
       "      <td>1972</td>\n",
       "      <td>NYU</td>\n",
       "      <td>NYU Langone</td>\n",
       "      <td>10016</td>\n",
       "      <td>Stanford</td>\n",
       "      <td>2000</td>\n",
       "      <td>1</td>\n",
       "      <td>2</td>\n",
       "      <td>2</td>\n",
       "      <td>0</td>\n",
       "      <td>4/8/18</td>\n",
       "      <td>2</td>\n",
       "      <td>Evening</td>\n",
       "      <td>0</td>\n",
       "    </tr>\n",
       "    <tr>\n",
       "      <th>4</th>\n",
       "      <td>10000000</td>\n",
       "      <td>0</td>\n",
       "      <td>1972</td>\n",
       "      <td>NYU</td>\n",
       "      <td>NYU Langone</td>\n",
       "      <td>10016</td>\n",
       "      <td>Stanford</td>\n",
       "      <td>2000</td>\n",
       "      <td>1</td>\n",
       "      <td>2</td>\n",
       "      <td>0</td>\n",
       "      <td>2</td>\n",
       "      <td>4/8/18</td>\n",
       "      <td>4</td>\n",
       "      <td>Morning</td>\n",
       "      <td>1</td>\n",
       "    </tr>\n",
       "  </tbody>\n",
       "</table>\n",
       "</div>"
      ],
      "text/plain": [
       "   national_provider_identifier  gender  birth_year medical_group  \\\n",
       "0                      10000000       0        1972           NYU   \n",
       "1                      10000000       0        1972           NYU   \n",
       "2                      10000000       0        1972           NYU   \n",
       "3                      10000000       0        1972           NYU   \n",
       "4                      10000000       0        1972           NYU   \n",
       "\n",
       "      hospital  location    school  graduation_year  pharmacy_preference  \\\n",
       "0  NYU Langone     10016  Stanford             2000                    1   \n",
       "1  NYU Langone     10016  Stanford             2000                    1   \n",
       "2  NYU Langone     10016  Stanford             2000                    1   \n",
       "3  NYU Langone     10016  Stanford             2000                    1   \n",
       "4  NYU Langone     10016  Stanford             2000                    1   \n",
       "\n",
       "   popularity  channel  content week_of  day  time_sent  response  \n",
       "0           2        0        0  4/1/18    1    Morning         0  \n",
       "1           2        2        0  4/1/18    3  Afternoon         0  \n",
       "2           2        0        0  4/1/18    4  Afternoon         0  \n",
       "3           2        2        0  4/8/18    2    Evening         0  \n",
       "4           2        0        2  4/8/18    4    Morning         1  "
      ]
     },
     "execution_count": 3,
     "metadata": {},
     "output_type": "execute_result"
    }
   ],
   "source": [
    "data = pd.read_csv(\"data_viz_full.csv\")\n",
    "data.head(5)"
   ]
  },
  {
   "cell_type": "markdown",
   "metadata": {},
   "source": [
    "Making Some Changes related to Anomalies in tha data for the Time_Sent Field"
   ]
  },
  {
   "cell_type": "code",
   "execution_count": 4,
   "metadata": {},
   "outputs": [
    {
     "name": "stderr",
     "output_type": "stream",
     "text": [
      "/Users/raj/anaconda3/lib/python3.6/site-packages/ipykernel_launcher.py:4: SettingWithCopyWarning: \n",
      "A value is trying to be set on a copy of a slice from a DataFrame\n",
      "\n",
      "See the caveats in the documentation: http://pandas.pydata.org/pandas-docs/stable/indexing.html#indexing-view-versus-copy\n",
      "  after removing the cwd from sys.path.\n"
     ]
    }
   ],
   "source": [
    "#Make some changes to the wrongly spelled words\n",
    "for i in range (0, len(data.time_sent)):\n",
    "    if(data.time_sent[i] == 'Aftenoon' or data.time_sent[i] == 'Aternoon'):\n",
    "        data.time_sent[i] = 'Afternoon'"
   ]
  },
  {
   "cell_type": "markdown",
   "metadata": {},
   "source": [
    "Converting the Birth-Year to age in relation with the Current year and then consolidating them into 8 different Bins"
   ]
  },
  {
   "cell_type": "code",
   "execution_count": 5,
   "metadata": {},
   "outputs": [],
   "source": [
    "\n",
    "\n",
    "#Getting age from birth year\n",
    "age = 2018 - data.birth_year\n",
    "data['age'] = age\n",
    "\n",
    "\n",
    "#Creating age range and converting the to categorical Variable \n",
    "age_range = []\n",
    "for i in range(0, len(age)):\n",
    "    if(age[i] > 20 and age[i] <= 25):\n",
    "        age_range.append(1)\n",
    "    elif(age[i] > 25 and age[i] <= 30):\n",
    "        age_range.append(2)\n",
    "    \n",
    "    elif(age[i] > 30 and age[i] <= 35):\n",
    "        age_range.append(3)\n",
    "   \n",
    "    elif(age[i] > 35 and age[i] <= 40):\n",
    "        age_range.append(4)\n",
    "    \n",
    "    elif(age[i] > 40 and age[i] <= 45):\n",
    "        age_range.append(5)\n",
    "    \n",
    "    elif(age[i] > 45 and age[i] <= 50):\n",
    "        age_range.append(6)\n",
    "    \n",
    "    elif(age[i] > 50 and age[i] <= 55):\n",
    "        age_range.append(7) \n",
    "    else:\n",
    "        age_range.append(8)\n",
    "    \n",
    "    \n",
    "data['age_range'] = age_range\n"
   ]
  },
  {
   "cell_type": "markdown",
   "metadata": {},
   "source": [
    "Converting the Time_sent variable from String to categorical for our Analysis"
   ]
  },
  {
   "cell_type": "code",
   "execution_count": 6,
   "metadata": {
    "collapsed": true
   },
   "outputs": [],
   "source": [
    "#Converting the variable from string to categorical\n",
    "time_sent_bin = []\n",
    "for i in range (0, len(data.time_sent)):\n",
    "    if(data.time_sent[i] == 'Morning'):\n",
    "        time_sent_bin.append(1) \n",
    "    elif(data.time_sent[i] == 'Afternoon'):\n",
    "        time_sent_bin.append(2)\n",
    "    else:\n",
    "        time_sent_bin.append(3)\n",
    "        \n",
    "data['time_sent_bin'] = time_sent_bin"
   ]
  },
  {
   "cell_type": "markdown",
   "metadata": {},
   "source": [
    "Converting the week_of variable to Categorical with Making the first week of month as 1, the second week as 2 and so on "
   ]
  },
  {
   "cell_type": "code",
   "execution_count": 7,
   "metadata": {},
   "outputs": [
    {
     "name": "stderr",
     "output_type": "stream",
     "text": [
      "/Users/raj/anaconda3/lib/python3.6/site-packages/ipykernel_launcher.py:5: SettingWithCopyWarning: \n",
      "A value is trying to be set on a copy of a slice from a DataFrame\n",
      "\n",
      "See the caveats in the documentation: http://pandas.pydata.org/pandas-docs/stable/indexing.html#indexing-view-versus-copy\n",
      "  \"\"\"\n",
      "/Users/raj/anaconda3/lib/python3.6/site-packages/ipykernel_launcher.py:7: SettingWithCopyWarning: \n",
      "A value is trying to be set on a copy of a slice from a DataFrame\n",
      "\n",
      "See the caveats in the documentation: http://pandas.pydata.org/pandas-docs/stable/indexing.html#indexing-view-versus-copy\n",
      "  import sys\n",
      "/Users/raj/anaconda3/lib/python3.6/site-packages/ipykernel_launcher.py:9: SettingWithCopyWarning: \n",
      "A value is trying to be set on a copy of a slice from a DataFrame\n",
      "\n",
      "See the caveats in the documentation: http://pandas.pydata.org/pandas-docs/stable/indexing.html#indexing-view-versus-copy\n",
      "  if __name__ == '__main__':\n",
      "/Users/raj/anaconda3/lib/python3.6/site-packages/ipykernel_launcher.py:12: SettingWithCopyWarning: \n",
      "A value is trying to be set on a copy of a slice from a DataFrame\n",
      "\n",
      "See the caveats in the documentation: http://pandas.pydata.org/pandas-docs/stable/indexing.html#indexing-view-versus-copy\n",
      "  if sys.path[0] == '':\n",
      "/Users/raj/anaconda3/lib/python3.6/site-packages/ipykernel_launcher.py:14: SettingWithCopyWarning: \n",
      "A value is trying to be set on a copy of a slice from a DataFrame\n",
      "\n",
      "See the caveats in the documentation: http://pandas.pydata.org/pandas-docs/stable/indexing.html#indexing-view-versus-copy\n",
      "  \n"
     ]
    }
   ],
   "source": [
    "data['week_of_bin'] = 0\n",
    "for i in range(0, len(data.week_of)):\n",
    "    if(data.week_of[i] == '4/1/18' or data.week_of[i] == '5/6/18' or data.week_of[i] == '5/3/18' or \n",
    "       data.week_of[i] == '6/3/18' or data.week_of[i] == '6/6/18'):\n",
    "        data.week_of_bin[i] = 1\n",
    "    elif(data.week_of[i] == '4/8/18' or data.week_of[i] == '5/13/18' or data.week_of[i] == '6/10/18'):\n",
    "        data.week_of_bin[i] = 2\n",
    "    elif(data.week_of[i] == '4/15/18' or data.week_of[i] == '5/20/18' or data.week_of[i] == '6/17/18'):\n",
    "        data.week_of_bin[i] = 3\n",
    "    elif(data.week_of[i] == '4/22/18' or data.week_of[i] == '5/27/18' \n",
    "         or data.week_of[i] == '6/24/18' or data.week_of[i] == '5/29/18'):\n",
    "        data.week_of_bin[i] = 4\n",
    "    elif(data.week_of[i] == '4/29/18'):\n",
    "        data.week_of_bin[i] = 5      "
   ]
  },
  {
   "cell_type": "markdown",
   "metadata": {},
   "source": [
    "Mapping different schools to numbers thus converting them into categorical variables for future Analysis"
   ]
  },
  {
   "cell_type": "code",
   "execution_count": 8,
   "metadata": {},
   "outputs": [
    {
     "name": "stderr",
     "output_type": "stream",
     "text": [
      "/Users/raj/anaconda3/lib/python3.6/site-packages/ipykernel_launcher.py:5: SettingWithCopyWarning: \n",
      "A value is trying to be set on a copy of a slice from a DataFrame\n",
      "\n",
      "See the caveats in the documentation: http://pandas.pydata.org/pandas-docs/stable/indexing.html#indexing-view-versus-copy\n",
      "  \"\"\"\n"
     ]
    }
   ],
   "source": [
    "count = 0\n",
    "data['school_bin'] = 0\n",
    "for i in (data.school.unique()):\n",
    "    temp = np.where(i == np.array(data.school))[0]\n",
    "    data.school_bin[temp] = count\n",
    "    count = count + 1"
   ]
  },
  {
   "cell_type": "code",
   "execution_count": 9,
   "metadata": {
    "collapsed": true
   },
   "outputs": [],
   "source": [
    "# data.gender = data.gender + 1\n",
    "# data.channel = data.channel + 1\n",
    "# data.content = data.content + 1"
   ]
  },
  {
   "cell_type": "markdown",
   "metadata": {},
   "source": [
    "Using SQL to divide the data into Train and Test sets. \n",
    "We keep the last two weeks from our data as Test sets which brings the Train Data size to 1506 and Test to 270 rows"
   ]
  },
  {
   "cell_type": "code",
   "execution_count": 10,
   "metadata": {
    "collapsed": true
   },
   "outputs": [],
   "source": [
    "#Creating the training set\n",
    "train = \"\"\"SELECT * FROM data where week_of != '6/17/18' and week_of != '6/24/18'\"\"\"\n",
    "data_train = ps.sqldf(train, locals())"
   ]
  },
  {
   "cell_type": "code",
   "execution_count": 11,
   "metadata": {
    "collapsed": true
   },
   "outputs": [],
   "source": [
    "#Creating the test set\n",
    "test = \"\"\"SELECT * FROM data where week_of = '6/17/18' or week_of = '6/24/18'\"\"\"\n",
    "data_test = ps.sqldf(test, locals())"
   ]
  },
  {
   "cell_type": "markdown",
   "metadata": {},
   "source": [
    "Now we select the features that we want to carry our Analysis on and segragate the features and prediction Variables from both the training and test data"
   ]
  },
  {
   "cell_type": "code",
   "execution_count": 12,
   "metadata": {
    "collapsed": true
   },
   "outputs": [],
   "source": [
    "#Selecting the features and getting the response column separately for train\n",
    "xname = ['gender', 'location', 'school_bin', 'popularity', 'age_range', 'channel', 'content', 'week_of_bin', 'day', 'time_sent_bin']\n",
    "X_train = np.array(data_train[xname].values)\n",
    "y_train = np.array(data_train['response'].values)"
   ]
  },
  {
   "cell_type": "code",
   "execution_count": 13,
   "metadata": {
    "collapsed": true
   },
   "outputs": [],
   "source": [
    "#Selecting the features and getting the response column separately for test\n",
    "X_test = np.array(data_test[xname].values)\n",
    "y_test = np.array(data_test['response'].values)"
   ]
  },
  {
   "cell_type": "markdown",
   "metadata": {},
   "source": [
    "Now in this section we run our <b>\"Random Forest Model\"</b>.<br>\n",
    "We do our model selection process by running 20 models with each model having trees ranging from 1-20.<br>\n",
    "We do 10 fold cross validation and check the accuracy of each model.<br>\n",
    "The parameters that we use for the model are:<br>\n",
    "1. <b>n_estimators</b> - Number of estimators(number of trees) to be used in the model<br>\n",
    "2. <b>criterion</b> - The criterion that should be used to create the split point. Includes <b>\"Gini Index\"</b> or <b>\"Entropy\"</b><br>\n",
    "3. <b>Max_features</b> - The number of features to consider when looking for the best split<br>\n",
    "4. <b>min_samples_split</b> - The minimum number of samples required to split an internal node<br>\n",
    "5. <b>min_samples_leaf</b> - The minimum number of samples required at the leaf<br>\n",
    "6. <b>min_weight_fraction_leaf</b> - The minimum weighted fraction of the sum total \n",
    "   of weights (of all the input samples) required to be at a leaf node<br>\n",
    "7. <b>n_jobs</b> - Number of jobs to be run in parallel<br>\n",
    "8. <b>random_state</b> - random_state is the seed used by the random number generator<br>\n",
    "\n",
    "For more information on the <b>\"RandomForestClassifier\"</b> of the sklearn package please refer the following link:<br>\n",
    "<a>http://scikit-learn.org/stable/modules/generated/sklearn.ensemble.RandomForestClassifier.html</a> <br>\n",
    "    \n",
    "We use the <b>\"cross_val_score\"</b> function of the sklearn to calculate the accuracy of each model \n",
    "and store it in a variable for further reference.<br>\n",
    "The inputs to this function we use include:<br>\n",
    "1. estimator - the model whose accuracy need to be evaluated<br>\n",
    "2. X - The data to fit the model to<br>\n",
    "3. y - The target variable we want to predict<br>\n",
    "4. cv - Determines the cross-validation splitting strategy<br>\n",
    "\n",
    "For further information please refer the link below:<br>\n",
    "<a>http://scikit-learn.org/stable/modules/generated/sklearn.model_selection.cross_val_score.html</a>\n",
    "\n",
    "\n"
   ]
  },
  {
   "cell_type": "code",
   "execution_count": 14,
   "metadata": {
    "collapsed": true
   },
   "outputs": [],
   "source": [
    "#Getting accuracy scores from different n_estimators in random forest\n",
    "score_accuracy = []\n",
    "n_trees_accuracy = []\n",
    "for i in range(1, 21):\n",
    "    est = RandomForestClassifier(n_estimators = i, \n",
    "                                 criterion = \"entropy\",\n",
    "                                 max_features = \"auto\",\n",
    "                                 max_depth=None,\n",
    "                                 min_samples_split = 2,\n",
    "                                 min_samples_leaf = 1,\n",
    "                                 min_weight_fraction_leaf = 0,\n",
    "                                 max_leaf_nodes = None,\n",
    "                                 n_jobs = 1,\n",
    "                                 random_state = 8)\n",
    "    n_trees_accuracy.append(i)\n",
    "    validation = cross_val_score(est, X_train, y_train, cv = 10)\n",
    "    score_accuracy.append(validation)\n",
    "    "
   ]
  },
  {
   "cell_type": "markdown",
   "metadata": {},
   "source": [
    "Taking the mean of accuracy values of each model since we carried out <b>10 fold cross-Validation</b>.<br>\n",
    "Carrying out 10 fold cross-validation will make each model run 10 times with <b>different sets of training and test</b> each time \n",
    "So we take mean of all 10 runs of all models to get the final mean accuracy for that model.<br>\n",
    "For more information on <b>k-fold cross-validation technique</b> and how to select the value of k and its advantages,\n",
    "please refer the link below:<br>\n",
    "<a>https://machinelearningmastery.com/k-fold-cross-validation/</a>"
   ]
  },
  {
   "cell_type": "code",
   "execution_count": 15,
   "metadata": {
    "collapsed": true
   },
   "outputs": [],
   "source": [
    "#Getting mean of accuracy scores for each random forest model\n",
    "#By comparing this with the F-score we can show how just seeing accuracy can be mis-leading\n",
    "score_accuracy_arr = np.asarray(score_accuracy)\n",
    "score_accuracy_arr_mean = np.mean(score_accuracy_arr, axis = 1)"
   ]
  },
  {
   "cell_type": "markdown",
   "metadata": {},
   "source": [
    "Plotting the mean accuracy of each model.<br>\n",
    "We can see that the mean accuracy of the model with <b>2</b> eastimators is the highest with a values of about <b>65%</b>"
   ]
  },
  {
   "cell_type": "code",
   "execution_count": 17,
   "metadata": {},
   "outputs": [
    {
     "data": {
      "text/plain": [
       "Text(0,0.5,'Accuracy')"
      ]
     },
     "execution_count": 17,
     "metadata": {},
     "output_type": "execute_result"
    },
    {
     "data": {
      "image/png": "[encoded data removed]",
      "text/plain": [
       "<Figure size 432x288 with 1 Axes>"
      ]
     },
     "metadata": {},
     "output_type": "display_data"
    }
   ],
   "source": [
    "plt.plot(n_trees_accuracy, score_accuracy_arr_mean)\n",
    "plt.xlabel('Model')\n",
    "plt.ylabel('Accuracy')"
   ]
  },
  {
   "cell_type": "markdown",
   "metadata": {},
   "source": [
    "Let us reinforce our model selection decision of considering <b>2</b> estimators by looking at the box-plot\n",
    "for each model(since each model is run 10 times).<br>\n",
    "Looking at the box plot we can conclude that model with <b>2</b> trees gives us the highest accuracy."
   ]
  },
  {
   "cell_type": "code",
   "execution_count": 18,
   "metadata": {},
   "outputs": [
    {
     "data": {
      "text/plain": [
       "<matplotlib.axes._subplots.AxesSubplot at 0x1170d9780>"
      ]
     },
     "execution_count": 18,
     "metadata": {},
     "output_type": "execute_result"
    },
    {
     "data": {
      "image/png": "[encoded data removed]",
      "text/plain": [
       "<Figure size 432x288 with 1 Axes>"
      ]
     },
     "metadata": {},
     "output_type": "display_data"
    }
   ],
   "source": [
    "sns.boxplot(n_trees_accuracy, score_accuracy)"
   ]
  },
  {
   "cell_type": "markdown",
   "metadata": {},
   "source": [
    "Let us analyze further as to how our model has performed on <b>test data in terms of prediction</b>, by studying the <b>confusion matrix</b>\n",
    "for the model with <b>2</b> parameters.<br>\n",
    "We first train our model with n_estimators = 2 and fitting the model"
   ]
  },
  {
   "cell_type": "code",
   "execution_count": 19,
   "metadata": {
    "collapsed": true
   },
   "outputs": [],
   "source": [
    "est = RandomForestClassifier(n_estimators = 2, \n",
    "                                 criterion = \"entropy\",\n",
    "                                 max_features = \"auto\",\n",
    "                                 max_depth=None,\n",
    "                                 min_samples_split = 2,\n",
    "                                 min_samples_leaf = 1,\n",
    "                                 min_weight_fraction_leaf = 0,\n",
    "                                 max_leaf_nodes = None,\n",
    "                                 n_jobs = 1,\n",
    "                                 random_state = 8)\n",
    "#Fitting the model on training data\n",
    "est.fit(X_train, y_train)\n",
    "\n",
    "#Making predictions on the training data\n",
    "y_pred = est.predict(X_test)"
   ]
  },
  {
   "cell_type": "markdown",
   "metadata": {},
   "source": [
    "Looking at the matrix below, we can infer that even when the accuracy of the model is around <b>67%</b>, the model does not \n",
    "perform well on the minority class. It seems that accuracy is not the apt parameter here to evaluate our model.<br>\n",
    "Let us look at the <b>f-score</b> to evaluate the model selection process."
   ]
  },
  {
   "cell_type": "code",
   "execution_count": 20,
   "metadata": {},
   "outputs": [
    {
     "data": {
      "text/plain": [
       "array([[169,  17],\n",
       "       [ 70,  14]])"
      ]
     },
     "execution_count": 20,
     "metadata": {},
     "output_type": "execute_result"
    }
   ],
   "source": [
    "confusion_matrix(y_test, y_pred)"
   ]
  },
  {
   "cell_type": "markdown",
   "metadata": {},
   "source": [
    "In this part we carry out the same process as before we did for the accuracy, but now evaluating the scoring on \n",
    "<b>f-score</b>. <br>\n",
    "We run 20 model with 10-fold cross validation and then take mean for 10 folds for each model."
   ]
  },
  {
   "cell_type": "code",
   "execution_count": 22,
   "metadata": {
    "collapsed": true
   },
   "outputs": [],
   "source": [
    "#Getting F scores from different n_estimators in random forest\n",
    "score_fscore = []\n",
    "n_trees_fscore = []\n",
    "for i in range(1, 21):\n",
    "    est = RandomForestClassifier(n_estimators = i, \n",
    "                                 criterion = \"entropy\",\n",
    "                                 max_features = \"auto\",\n",
    "                                 max_depth=None,\n",
    "                                 min_samples_split = 2,\n",
    "                                 min_samples_leaf = 1,\n",
    "                                 min_weight_fraction_leaf = 0,\n",
    "                                 max_leaf_nodes = None,\n",
    "                                 n_jobs = 1,\n",
    "                                 random_state = 8)\n",
    "    n_trees_fscore.append(i)\n",
    "    validation = cross_val_score(est, X_train, y_train, cv = 10, scoring = 'f1')\n",
    "    score_fscore.append(validation)"
   ]
  },
  {
   "cell_type": "code",
   "execution_count": 23,
   "metadata": {
    "collapsed": true
   },
   "outputs": [],
   "source": [
    "#Getting mean of F scores for each random forest model\n",
    "score_fscore_arr = np.asarray(score_fscore)\n",
    "score_fscore_arr_mean = np.mean(score_fscore_arr, axis = 1)"
   ]
  },
  {
   "cell_type": "markdown",
   "metadata": {},
   "source": [
    "Looking at the box-plot again we infer model with 3-estimators(3-trees) have the highest f-score and hence should be\n",
    "selected for further analysis"
   ]
  },
  {
   "cell_type": "code",
   "execution_count": 19,
   "metadata": {},
   "outputs": [
    {
     "data": {
      "text/plain": [
       "<matplotlib.axes._subplots.AxesSubplot at 0x11085fe10>"
      ]
     },
     "execution_count": 19,
     "metadata": {},
     "output_type": "execute_result"
    },
    {
     "data": {
      "image/png": "[encoded data removed]",
      "text/plain": [
       "<matplotlib.figure.Figure at 0x1107db550>"
      ]
     },
     "metadata": {},
     "output_type": "display_data"
    }
   ],
   "source": [
    "sns.boxplot(n_trees_fscore, score_fscore)"
   ]
  },
  {
   "cell_type": "markdown",
   "metadata": {},
   "source": [
    "Getting the optimal n-estimator value that we use use for further analysis(3 in our case)"
   ]
  },
  {
   "cell_type": "code",
   "execution_count": 27,
   "metadata": {
    "collapsed": true
   },
   "outputs": [],
   "source": [
    "#Getting the optimal n-estimator value\n",
    "sorted_array = np.sort(score_fscore_arr_mean)\n",
    "max_2 = sorted_array[len(sorted_array) - 2]\n",
    "n_estimator_max_fscore = np.where(score_fscore_arr_mean == max_2)[0]\n",
    "n_estimator = n_estimator_max_fscore[0]"
   ]
  },
  {
   "cell_type": "markdown",
   "metadata": {},
   "source": [
    "Below function <b><i>perf_measure()</i></b> will take in inputs the data, y_actual(true values) and y_pred(model Predicted Values) and return the indivisual elements of a confusion matrix <b>True Positive, True Negative, False Positive and False Negative</b>. Along with this it also returns all the elements of the confusion matrix segmented for each channel.<br>\n",
    "<b>The purpose of doing this is elaborated in the next section</b>"
   ]
  },
  {
   "cell_type": "code",
   "execution_count": 28,
   "metadata": {
    "collapsed": true
   },
   "outputs": [],
   "source": [
    "#Function that will give all elements of the confusion matrix and distribution of channels within each element of the \n",
    "#Confusion matrix\n",
    "def perf_measure(data, y_actual, y_pred):\n",
    "    TP = 0\n",
    "    FP = 0\n",
    "    TN = 0\n",
    "    FN = 0\n",
    "    TP_email = 0\n",
    "    TP_dm = 0\n",
    "    TP_rep_call = 0\n",
    "    FP_email = 0\n",
    "    FP_dm = 0\n",
    "    FP_rep_call = 0\n",
    "    TN_email = 0\n",
    "    TN_dm = 0\n",
    "    TN_rep_call = 0\n",
    "    FN_email = 0\n",
    "    FN_dm = 0\n",
    "    FN_rep_call = 0\n",
    "    TP_prom = []\n",
    "    FP_prom = []\n",
    "    TN_prom = []\n",
    "    FN_prom = []\n",
    "\n",
    "    for i in range(len(y_pred)): \n",
    "        if y_actual[i]==y_pred[i]==1:\n",
    "            TP += 1\n",
    "            if ((data[i])[5]) == 1:\n",
    "                TP_email += 1\n",
    "            elif ((data[i])[5]) == 2:\n",
    "                TP_dm += 1\n",
    "            else:\n",
    "                TP_rep_call += 1\n",
    "        if y_pred[i]==1 and y_actual[i]!=y_pred[i]:\n",
    "            FP += 1\n",
    "    \n",
    "            if ((data[i])[5]) == 1:\n",
    "                FP_email += 1\n",
    "            elif ((data[i])[5]) == 2:\n",
    "                FP_dm += 1\n",
    "            else:\n",
    "                FP_rep_call += 1\n",
    "        if y_actual[i]==y_pred[i]==0:\n",
    "            TN += 1\n",
    "            \n",
    "            if ((data[i])[5]) == 1:\n",
    "                TN_email += 1\n",
    "            elif ((data[i])[5]) == 2:\n",
    "                TN_dm += 1\n",
    "            else:\n",
    "                TN_rep_call += 1\n",
    "        if y_pred[i]==0 and y_actual[i]!=y_pred[i]:\n",
    "            FN += 1\n",
    "            \n",
    "            if ((data[i])[5]) == 1:\n",
    "                FN_email += 1\n",
    "            elif ((data[i])[5]) == 2:\n",
    "                FN_dm += 1\n",
    "            else:\n",
    "                FN_rep_call += 1\n",
    "       \n",
    "    TP_prom.append(TP_email)\n",
    "    TP_prom.append(TP_dm)\n",
    "    TP_prom.append(TP_rep_call)\n",
    "    \n",
    "    FP_prom.append(FP_email)\n",
    "    FP_prom.append(FP_dm)\n",
    "    FP_prom.append(FP_rep_call)\n",
    "    \n",
    "    TN_prom.append(TN_email)\n",
    "    TN_prom.append(TN_dm)\n",
    "    TN_prom.append(TN_rep_call)\n",
    "    \n",
    "    FN_prom.append(FN_email)\n",
    "    FN_prom.append(FN_dm)\n",
    "    FN_prom.append(FN_rep_call)\n",
    "    \n",
    "    \n",
    "    \n",
    "\n",
    "    return(TP, FP, TN, FN, TP_prom, FP_prom, TN_prom, FN_prom)"
   ]
  },
  {
   "cell_type": "markdown",
   "metadata": {},
   "source": [
    "The process by which random forest model make decisions in a classification problem is called\n",
    "a voting process. The way it works is, each tree in the random forest gives its prediction and then\n",
    "these decisions are collected and put through voting where maximum number of votes for a particular \n",
    "<b>class(Class would represent the target variable values, as in our case the model predicts if the HCP will \n",
    "respond to a promotion or not)</b> wins and is the prediction by the model.<br>\n",
    "Each tree in the model gives out a probability as to what is its prediction confidence for a class.<br>\n",
    "Now decision of a tree to predict a particular class is based on the <b><i>Threshold</i></b> value.<br>\n",
    "<b>Threshold</b> can be any value between <b>0 and 1</b>, using which the tree will give out a prediction for \n",
    "a particular class.<br>\n",
    "For Example, if the threshold value is set to 0.4 and we want all trees that give out predictions to predict as \n",
    "<b>response</b> for a value above 0.4 and <b>no response</b> for a value below 0.4.<br><br>\n",
    "\n",
    "To evaluate the correct threshold value for our model, we use a process of automation where we run the model with \n",
    "3-estimators(as we evaluated using the model selection process before), with 80 values from 0-0.9 and check to see which value of threshold gives the highest <b>f-score</b>. This is one way in which we can select a threshold value.<br><br>\n",
    "Another approach is evaluating the threshold based on the <b>Return on Investment<i>(ROI)</i></b>.<br>\n",
    "Assuming the costs to be <b>0.1 C/email, \\$5/direct Mail, \\$275/Rep call and $150,000 gained per HCP for a response</b>, \n",
    "based on the numbers obtained from the function <b><i>perf_measure()</i></b> above we calculate the ROI and select the threshold with highest ROI.<br>\n",
    "For the purpose of our model, we use the second approach to make selection of threshold. This is because, we want to maximize our profits.\n",
    "\n"
   ]
  },
  {
   "cell_type": "code",
   "execution_count": 29,
   "metadata": {},
   "outputs": [],
   "source": [
    "#Get the F-score and costing for different value of thresholds from 0.1-0.9 for the optimal n-estimator Value\n",
    "#COSTINGS\n",
    "# 0.1 C/email\n",
    "# $5/direct_mail\n",
    "# $275/Rep call\n",
    "# $150,000 gained per HCP for a response\n",
    "costing = []\n",
    "# This function returns the predicted values by a model based on the cut-off value\n",
    "def cutoff_predict(est, X, cutoff):\n",
    "    return (est.predict_proba(X)[:, 1] > cutoff).astype(int)\n",
    "\n",
    "\n",
    "def cutoff_predict_new(est, X, cutoff, y):\n",
    "    est.fit(X, y)\n",
    "    return (est.predict_proba(X)[:, 1] > cutoff).astype(int)\n",
    "\n",
    "# Custom f-score function that calculates values for different cutoff values\n",
    "def custom_f1(cutoff):\n",
    "    def f1_cutoff(est, X, y):\n",
    "        y_pred = cutoff_predict(est, X, cutoff)\n",
    "        return f1_score(y, y_pred)\n",
    "    return f1_cutoff\n",
    "score_max_fscore = []\n",
    "cutoff_value = []\n",
    "for cutoff in np.arange(0.1, 0.9, 0.01):\n",
    "    est = RandomForestClassifier(n_estimators = n_estimator + 1, \n",
    "                                 criterion = \"entropy\",\n",
    "                                 max_features = \"auto\",\n",
    "                                 max_depth=None,\n",
    "                                 min_samples_split = 2,\n",
    "                                 min_samples_leaf = 1,\n",
    "                                 min_weight_fraction_leaf = 0,\n",
    "                                 max_leaf_nodes = None,\n",
    "                                 n_jobs = 1,\n",
    "                                 random_state = 8)\n",
    "    cutoff_value.append(cutoff)\n",
    "    #f-score calculation\n",
    "    validation = cross_val_score(est, X_train, y_train, cv = 10, scoring = custom_f1(cutoff))\n",
    "    score_max_fscore.append(validation)\n",
    "    \n",
    "    \n",
    "    #ROI Calculations\n",
    "    TP, FP, TN, FN, TP_prom, FP_prom, TN_prom, FN_prom = perf_measure(X_train, y_train, \n",
    "                                                        y_pred = cutoff_predict_new(est, X_train, cutoff, y_train))\n",
    "    promotion_no_return = (FP_prom[0] * 0.1) + (FP_prom[1] * 5) + (FP_prom[2] * 275)\n",
    "    opportunity_cost = (FN * 150000) - ((FN_prom[0] * 0.1) + (FN_prom[1] * 5) + (FN_prom[2] * 275))\n",
    "    promotion_saved = (TN_prom[0] * 0.1) + (TN_prom[1] * 5) + (TN_prom[2] * 275)\n",
    "    promotion_benefit = (TP * 150000) - ((TP_prom[0] * 0.1) + (TP_prom[1] * 5) + (TP_prom[2] * 275))\n",
    "    \n",
    "    profit = promotion_saved  + promotion_benefit - promotion_no_return - opportunity_cost\n",
    "    costing.append(profit)\n",
    "    \n",
    "    "
   ]
  },
  {
   "cell_type": "markdown",
   "metadata": {},
   "source": [
    "Calculating the mean of the f-score values for each model since we performed 10-fold cross validation"
   ]
  },
  {
   "cell_type": "code",
   "execution_count": 30,
   "metadata": {
    "collapsed": true
   },
   "outputs": [],
   "source": [
    "score_max_fscore_arr = np.asarray(score_max_fscore)\n",
    "score_max_fscore_arr_mean = np.mean(score_max_fscore_arr, axis = 1)"
   ]
  },
  {
   "cell_type": "markdown",
   "metadata": {},
   "source": [
    "Getting the threshold with maximum value of ROI"
   ]
  },
  {
   "cell_type": "code",
   "execution_count": 57,
   "metadata": {},
   "outputs": [],
   "source": [
    "costing_max = np.where(costing == np.max(costing))[0]\n",
    "threshold_costing = []\n",
    "threshold_costing.append(np.arange(0.1, 0.9, 0.01)[costing_max])\n",
    "threshold = np.max(threshold_costing)"
   ]
  },
  {
   "cell_type": "markdown",
   "metadata": {},
   "source": [
    "<b>Building the model on the final parameters determined with the processes above</b>"
   ]
  },
  {
   "cell_type": "code",
   "execution_count": 59,
   "metadata": {
    "collapsed": true
   },
   "outputs": [],
   "source": [
    "est = RandomForestClassifier(n_estimators = n_estimator + 1, \n",
    "                                 criterion = \"entropy\",\n",
    "                                 max_features = \"auto\",\n",
    "                                 max_depth=None,\n",
    "                                 min_samples_split = 2,\n",
    "                                 min_samples_leaf = 1,\n",
    "                                 min_weight_fraction_leaf = 0,\n",
    "                                 max_leaf_nodes = None,\n",
    "                                 n_jobs = 1,\n",
    "                                 random_state = 8)"
   ]
  },
  {
   "cell_type": "code",
   "execution_count": 60,
   "metadata": {},
   "outputs": [
    {
     "data": {
      "text/plain": [
       "RandomForestClassifier(bootstrap=True, class_weight=None, criterion='entropy',\n",
       "            max_depth=None, max_features='auto', max_leaf_nodes=None,\n",
       "            min_impurity_decrease=0.0, min_impurity_split=None,\n",
       "            min_samples_leaf=1, min_samples_split=2,\n",
       "            min_weight_fraction_leaf=0, n_estimators=3, n_jobs=1,\n",
       "            oob_score=False, random_state=8, verbose=0, warm_start=False)"
      ]
     },
     "execution_count": 60,
     "metadata": {},
     "output_type": "execute_result"
    }
   ],
   "source": [
    "est.fit(X_train, y_train)"
   ]
  },
  {
   "cell_type": "code",
   "execution_count": 61,
   "metadata": {
    "collapsed": true
   },
   "outputs": [],
   "source": [
    "y_pred = (est.predict_proba(X_test)[:, 1] > threshold).astype(int)"
   ]
  },
  {
   "cell_type": "markdown",
   "metadata": {},
   "source": [
    "Thus we can see that we have quite a balance in the predictions made by our model as compared to earlier,\n",
    "when we performed model selection based only on accuracy. Here, we get a decreased accuracy of <b>52% but maximized profits</b>"
   ]
  },
  {
   "cell_type": "code",
   "execution_count": 62,
   "metadata": {},
   "outputs": [
    {
     "data": {
      "text/plain": [
       "array([[89, 97],\n",
       "       [34, 50]])"
      ]
     },
     "execution_count": 62,
     "metadata": {},
     "output_type": "execute_result"
    }
   ],
   "source": [
    "confusion_matrix(y_test, y_pred)"
   ]
  }
 ],
 "metadata": {
  "kernelspec": {
   "display_name": "Python 3",
   "language": "python",
   "name": "python3"
  }
 },
 "nbformat": 4,
 "nbformat_minor": 2
}
